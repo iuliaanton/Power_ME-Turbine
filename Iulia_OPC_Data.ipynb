{
 "cells": [
  {
   "cell_type": "code",
   "execution_count": 1,
   "id": "social-carry",
   "metadata": {},
   "outputs": [],
   "source": [
    "#SQLite Db\n",
    "import sqlite3\n",
    "#dataframes\n",
    "import pandas as pd\n",
    "\n",
    "import numpy as np\n",
    "#plots\n",
    "import matplotlib.pyplot as plt\n",
    "#lsq interpolation\n",
    "import scipy.interpolate as si "
   ]
  },
  {
   "cell_type": "code",
   "execution_count": 2,
   "id": "emotional-helena",
   "metadata": {},
   "outputs": [
    {
     "name": "stdout",
     "output_type": "stream",
     "text": [
      "turbine\n"
     ]
    }
   ],
   "source": [
    "# Create the connection.\n",
    "cnx = sqlite3.connect('data.db')\n",
    "\n",
    "#Find the name of the table\n",
    "res = cnx.execute(\"SELECT name FROM sqlite_master WHERE type='table';\")\n",
    "for name in res:\n",
    "    print(name[0])"
   ]
  },
  {
   "cell_type": "code",
   "execution_count": 3,
   "id": "greek-albany",
   "metadata": {},
   "outputs": [],
   "source": [
    "#read sql\n",
    "df = pd.read_sql_query(\"SELECT * FROM turbine\", cnx)"
   ]
  },
  {
   "cell_type": "code",
   "execution_count": 4,
   "id": "acute-piano",
   "metadata": {},
   "outputs": [],
   "source": [
    "#Split started column to two columns\n",
    "df[['Date','Time']] = df.valuetime.str.split(\" \",expand=True,)\n",
    "df = df[['started','Date', 'Time', 'locname', 'plantno', 'power','wind']]"
   ]
  },
  {
   "cell_type": "code",
   "execution_count": null,
   "id": "informed-publication",
   "metadata": {},
   "outputs": [],
   "source": [
    "#change time format\n",
    "df['Time'] = pd.to_datetime(df['Time']).dt.strftime('%H:%M:%S')\n",
    "df"
   ]
  },
  {
   "cell_type": "code",
   "execution_count": null,
   "id": "broken-speech",
   "metadata": {},
   "outputs": [],
   "source": [
    "#create a df with hours \n",
    "df1=pd.date_range(\"00:00:00\", \"23:00:00\", freq=\"60min\").strftime('%H:%M:%S')\n",
    "\n",
    "#another times\n",
    "#df2=pd.date_range(\"00:00:02\", \"23:00:02\", freq=\"60min\").strftime('%H:%M:%S')\n",
    "#df3=pd.date_range(\"00:00:59\", \"23:00:59\", freq=\"60min\").strftime('%H:%M:%S')\n",
    "#df_time=df1.append(df2)\n",
    "#df_time=df_time.append(df3)\n",
    "\n",
    "print(df1)"
   ]
  },
  {
   "cell_type": "code",
   "execution_count": null,
   "id": "subtle-russia",
   "metadata": {},
   "outputs": [],
   "source": [
    "#keep only row with time format tt:00:00\n",
    "#df_hourly=pd.DataFrame()\n",
    "#for a in df1:\n",
    "    #df_hourly = df_hourly.append(df.loc[df['Time'] == a])\n",
    "#df_hourly.head(n=5)\n",
    "df_hourly=df\n",
    "\n",
    "#print df\n",
    "df_hourly.head(10)"
   ]
  },
  {
   "cell_type": "code",
   "execution_count": null,
   "id": "massive-chuck",
   "metadata": {},
   "outputs": [],
   "source": [
    "#separe date time columns\n",
    "df_hourly[\"DateTime\"] = df_hourly[\"Date\"] + \" \" + df_hourly[\"Time\"]\n",
    "\n",
    "#order ascending by wind to apply interpolation\n",
    "df_hourly=df_hourly.sort_values(by=['wind'], axis=0, ascending=True)\n",
    "\n",
    "#positive values for power\n",
    "df_hourly=df_hourly[(df_hourly.power >= 0.0)]\n",
    "\n",
    "#print first 15 rows\n",
    "df_hourly.head(n=15)\n"
   ]
  },
  {
   "cell_type": "code",
   "execution_count": null,
   "id": "favorite-gamma",
   "metadata": {},
   "outputs": [],
   "source": [
    "#separe by plant no\n",
    "df_hourly_1=df_hourly[(df_hourly.plantno == 1)]\n",
    "df_hourly_2=df_hourly[(df_hourly.plantno == 2)]\n",
    "\n",
    "#sort ascending\n",
    "#df_hourly_2=df_hourly_2.sort_values(by=['power'])\n",
    "\n",
    "#df_hourly_2=df_hourly_2[2:]\n",
    "\n",
    "#choose one of the turbine\n",
    "df_hourly=df_hourly_1\n",
    "\n",
    "#sort again\n",
    "df_hourly=df_hourly.sort_values(by=['wind'])"
   ]
  },
  {
   "cell_type": "code",
   "execution_count": null,
   "id": "auburn-shanghai",
   "metadata": {},
   "outputs": [],
   "source": [
    "plt.plot(df_hourly[\"wind\"], df_hourly[\"power\"],\"o\")\n",
    "plt.show()"
   ]
  },
  {
   "cell_type": "markdown",
   "id": "assisted-portal",
   "metadata": {},
   "source": [
    "## LSQ Spline"
   ]
  },
  {
   "cell_type": "markdown",
   "id": "threaded-kelly",
   "metadata": {},
   "source": [
    "source: http://vadym-pasko.com/blog/2015/03/06/spline-approx-scipy.html"
   ]
  },
  {
   "cell_type": "code",
   "execution_count": null,
   "id": "color-supervisor",
   "metadata": {},
   "outputs": [],
   "source": [
    "x=df_hourly[\"wind\"].reset_index(drop=True)\n",
    "\\\n",
    "y=df_hourly[\"power\"].reset_index(drop=True)\n",
    "wmin, wmax = min(x), max(x) \n",
    "pmin, pmax = min(y), max(y)"
   ]
  },
  {
   "cell_type": "code",
   "execution_count": null,
   "id": "known-separate",
   "metadata": {},
   "outputs": [],
   "source": [
    "#Define some control points and set some variables:\n",
    "n = len(x)\n",
    "plotpoints = 100\n",
    "\n",
    "#set spline degree and find knot vector:\n",
    "k = 2\n",
    "\n",
    "#Construct uniform knot vector:\n",
    "knotspace = range(n)\n",
    "knots = si.InterpolatedUnivariateSpline(knotspace, knotspace, k=k).get_knots()\n",
    "knots_full = np.concatenate(([knots[0]]*k, knots, [knots[-1]]*k))\n",
    "\n",
    "#nknot - is the number of knots in the reduced knot vector (one without k repeating values at the endings).\n",
    "nknot=5\n",
    "knot_offset = (wmax - wmin)/(nknot + 1)\n",
    "knots = np.linspace(knot_offset, wmax-knot_offset, nknot)\n",
    "\n",
    "#define the vector of weights w in order to force our further approximations to pass close to the end points of the original data\n",
    "wend = 3\n",
    "num_points=len(x)\n",
    "w = [wend] + [1]*(num_points-2) + [wend]"
   ]
  },
  {
   "cell_type": "code",
   "execution_count": null,
   "id": "pacific-pilot",
   "metadata": {},
   "outputs": [],
   "source": [
    "#Instantiate LSQUnivariateSpline class using coordinates of the data points, the knot vector and the weight vector:\n",
    "lsqspline = si.LSQUnivariateSpline(x, y, knots, k=k, w=w)"
   ]
  },
  {
   "cell_type": "code",
   "execution_count": null,
   "id": "bronze-stockholm",
   "metadata": {},
   "outputs": [],
   "source": [
    "# evaluate control points \n",
    "def getControlPoints(knots, k):\n",
    "    n = len(knots) - 1 - k\n",
    "    cx = np.zeros(n)\n",
    "    for i in range(n):\n",
    "        tsum = 0\n",
    "        for j in range(1, k+1):\n",
    "            tsum += knots[i+j]\n",
    "        cx[i] = float(tsum)/k\n",
    "    return cx\n",
    "\n",
    "cp = getControlPoints(knots_full, k)"
   ]
  },
  {
   "cell_type": "code",
   "execution_count": null,
   "id": "contemporary-track",
   "metadata": {},
   "outputs": [],
   "source": [
    "#Get full-length knot vector, spline coefficients and coordinates of control points along the x-axis:\n",
    "knots = lsqspline.get_knots()\n",
    "knots_full = np.concatenate(([knots[0]]*k, knots, [knots[-1]]*k))\n",
    "coeffs_p = lsqspline.get_coeffs()\n",
    "coeffs_w = getControlPoints(knots_full, k)"
   ]
  },
  {
   "cell_type": "code",
   "execution_count": null,
   "id": "pacific-flash",
   "metadata": {},
   "outputs": [],
   "source": [
    "nsample = 100\n",
    "xP = np.linspace(x[0], x[len(x) - 1], nsample)\n",
    "yP = lsqspline(xP)"
   ]
  },
  {
   "cell_type": "code",
   "execution_count": null,
   "id": "biological-promise",
   "metadata": {},
   "outputs": [],
   "source": [
    "#plot results\n",
    "fig, ax = plt.subplots()\n",
    "ax.plot(x, y, 'go', label='Turbine Data')\n",
    "ax.plot(xP, yP, 'yo', label='Interpolated Data')\n",
    "\n",
    "plt.xlabel(\"Wind speed (m/s)\")\n",
    "plt.ylabel(\"Power (kW)\")\n",
    "\n",
    "legend = ax.legend(loc='upper left', shadow=True, fontsize='medium')\n",
    "plt.show()"
   ]
  },
  {
   "cell_type": "code",
   "execution_count": null,
   "id": "median-insured",
   "metadata": {},
   "outputs": [],
   "source": [
    "#save itnerpolated data to a df\n",
    "di = pd.DataFrame({'Windspeed': xP,'Power': yP})\n",
    "\n",
    "#positive values for power\n",
    "di=di[(di.Power >= 0.0)]\n",
    "\n",
    "di"
   ]
  },
  {
   "cell_type": "markdown",
   "id": "integral-fault",
   "metadata": {},
   "source": [
    "### Met Eirean Data"
   ]
  },
  {
   "cell_type": "code",
   "execution_count": null,
   "id": "signal-printer",
   "metadata": {},
   "outputs": [],
   "source": [
    "#meteirean data\n",
    "cnx = sqlite3.connect('MetEirean.db')\n",
    "\n",
    "#Find the name of the table\n",
    "res = cnx.execute(\"SELECT name FROM sqlite_master WHERE type='table';\")\n",
    "for name in res:\n",
    "    print(name[0])"
   ]
  },
  {
   "cell_type": "code",
   "execution_count": null,
   "id": "upper-monitor",
   "metadata": {},
   "outputs": [],
   "source": [
    "me_full = pd.read_sql_query(\"SELECT * FROM met_eireann_com\", cnx)\n",
    "me=me_full[[\"period\", \"u100wind\",\"v100wind\"]]\n",
    "me.head(5)\n",
    "%store me"
   ]
  },
  {
   "cell_type": "code",
   "execution_count": null,
   "id": "foreign-chorus",
   "metadata": {},
   "outputs": [],
   "source": [
    "me['windspeed'] = np.sqrt(me['u100wind'].pow(2) + me['v100wind'].pow(2))\n",
    "#values greater than 1 for windspeed\n",
    "me=me[(me.windspeed > 1.5) & (me.windspeed <15.5)]\n",
    "me=me.sort_values(by=['windspeed'])\n",
    "me.head(5)"
   ]
  },
  {
   "cell_type": "markdown",
   "id": "linear-matter",
   "metadata": {},
   "source": [
    "## Interpolation"
   ]
  },
  {
   "cell_type": "code",
   "execution_count": null,
   "id": "thick-maine",
   "metadata": {},
   "outputs": [],
   "source": [
    "w, p = di['Windspeed'].values, di['Power'].values\n",
    "\n",
    "# Interpolate (w,p)\n",
    "f = si.interp1d(w, p, kind='cubic')\n",
    "\n",
    "# Apply interpolation curve to windspeed values in forecast to get power.\n",
    "me['power'] = me['windspeed'].apply(f).round(3)\n",
    "me"
   ]
  },
  {
   "cell_type": "markdown",
   "id": "pediatric-plenty",
   "metadata": {},
   "source": [
    "## Check Data"
   ]
  },
  {
   "cell_type": "code",
   "execution_count": null,
   "id": "nasty-hundred",
   "metadata": {},
   "outputs": [],
   "source": [
    "df1 = me.loc[(me['windspeed'] > 2.8) & (me['windspeed'] < 3) , ['windspeed','power']]\n",
    "df1=df1.rename(columns={'power':'Power_ME'})\n",
    "df2 = df_hourly.loc[(df_hourly[\"wind\"] > 2.8) & (df_hourly[\"wind\"] < 3) , ['wind','power']]\n",
    "df2=df2.rename(columns={'power':'Power_Turbine'})\n",
    "\n",
    "#result = df1.append(df2, ignore_index=True, sort=False)\n",
    "#result = pd.concat([df1, df2], axis=1)\n",
    "print( \"\\033[1m\"+\"MetEirean Dataframe\"+\"\\033[0m\")\n",
    "print(df1.head(10))\n",
    "print(\"\\n\")\n",
    "print( \"\\033[1m\"+\"Interpolated Data\"+\"\\033[0m\")\n",
    "print(df2.head(10))\n"
   ]
  }
 ],
 "metadata": {
  "kernelspec": {
   "display_name": "Python 3",
   "language": "python",
   "name": "python3"
  },
  "language_info": {
   "codemirror_mode": {
    "name": "ipython",
    "version": 3
   },
   "file_extension": ".py",
   "mimetype": "text/x-python",
   "name": "python",
   "nbconvert_exporter": "python",
   "pygments_lexer": "ipython3",
   "version": "3.8.5"
  }
 },
 "nbformat": 4,
 "nbformat_minor": 5
}
